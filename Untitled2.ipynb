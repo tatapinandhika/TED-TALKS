{
 "cells": [
  {
   "cell_type": "code",
   "execution_count": 1,
   "id": "01bf70a2",
   "metadata": {},
   "outputs": [],
   "source": [
    "import numpy as np # linear algebra\n",
    "import pandas as pd # data processing, CSV file I/O (e.g. pd.read_csv)\n",
    "import matplotlib.pyplot as plt\n"
   ]
  },
  {
   "cell_type": "code",
   "execution_count": 2,
   "id": "c8d9adf3",
   "metadata": {},
   "outputs": [],
   "source": [
    "df = pd.read_csv('Documents/kaggle/data.csv')\n",
    "df =  df.dropna()"
   ]
  },
  {
   "cell_type": "markdown",
   "id": "c631b3fe",
   "metadata": {},
   "source": [
    "# top 10 viewers"
   ]
  },
  {
   "cell_type": "code",
   "execution_count": 3,
   "id": "35d36a1a",
   "metadata": {},
   "outputs": [
    {
     "data": {
      "text/html": [
       "<div>\n",
       "<style scoped>\n",
       "    .dataframe tbody tr th:only-of-type {\n",
       "        vertical-align: middle;\n",
       "    }\n",
       "\n",
       "    .dataframe tbody tr th {\n",
       "        vertical-align: top;\n",
       "    }\n",
       "\n",
       "    .dataframe thead th {\n",
       "        text-align: right;\n",
       "    }\n",
       "</style>\n",
       "<table border=\"1\" class=\"dataframe\">\n",
       "  <thead>\n",
       "    <tr style=\"text-align: right;\">\n",
       "      <th></th>\n",
       "      <th>title</th>\n",
       "      <th>author</th>\n",
       "      <th>date</th>\n",
       "      <th>views</th>\n",
       "      <th>likes</th>\n",
       "      <th>link</th>\n",
       "    </tr>\n",
       "  </thead>\n",
       "  <tbody>\n",
       "    <tr>\n",
       "      <th>5436</th>\n",
       "      <td>Do schools kill creativity?</td>\n",
       "      <td>Sir Ken Robinson</td>\n",
       "      <td>February 2006</td>\n",
       "      <td>72000000</td>\n",
       "      <td>2100000</td>\n",
       "      <td>https://ted.com/talks/sir_ken_robinson_do_scho...</td>\n",
       "    </tr>\n",
       "    <tr>\n",
       "      <th>4084</th>\n",
       "      <td>Your body language may shape who you are</td>\n",
       "      <td>Amy Cuddy</td>\n",
       "      <td>June 2012</td>\n",
       "      <td>64000000</td>\n",
       "      <td>1900000</td>\n",
       "      <td>https://ted.com/talks/amy_cuddy_your_body_lang...</td>\n",
       "    </tr>\n",
       "    <tr>\n",
       "      <th>2958</th>\n",
       "      <td>Inside the mind of a master procrastinator</td>\n",
       "      <td>Tim Urban</td>\n",
       "      <td>February 2016</td>\n",
       "      <td>60000000</td>\n",
       "      <td>1800000</td>\n",
       "      <td>https://ted.com/talks/tim_urban_inside_the_min...</td>\n",
       "    </tr>\n",
       "    <tr>\n",
       "      <th>4765</th>\n",
       "      <td>How great leaders inspire action</td>\n",
       "      <td>Simon Sinek</td>\n",
       "      <td>September 2009</td>\n",
       "      <td>57000000</td>\n",
       "      <td>1700000</td>\n",
       "      <td>https://ted.com/talks/simon_sinek_how_great_le...</td>\n",
       "    </tr>\n",
       "    <tr>\n",
       "      <th>4605</th>\n",
       "      <td>The power of vulnerability</td>\n",
       "      <td>Brené Brown</td>\n",
       "      <td>June 2010</td>\n",
       "      <td>56000000</td>\n",
       "      <td>1700000</td>\n",
       "      <td>https://ted.com/talks/brene_brown_the_power_of...</td>\n",
       "    </tr>\n",
       "    <tr>\n",
       "      <th>3504</th>\n",
       "      <td>How to speak so that people want to listen</td>\n",
       "      <td>Julian Treasure</td>\n",
       "      <td>June 2013</td>\n",
       "      <td>49000000</td>\n",
       "      <td>1400000</td>\n",
       "      <td>https://ted.com/talks/julian_treasure_how_to_s...</td>\n",
       "    </tr>\n",
       "    <tr>\n",
       "      <th>2168</th>\n",
       "      <td>My philosophy for a happy life</td>\n",
       "      <td>Sam Berns</td>\n",
       "      <td>October 2013</td>\n",
       "      <td>43000000</td>\n",
       "      <td>1300000</td>\n",
       "      <td>https://ted.com/talks/sam_berns_my_philosophy_...</td>\n",
       "    </tr>\n",
       "    <tr>\n",
       "      <th>3251</th>\n",
       "      <td>The next outbreak? We're not ready</td>\n",
       "      <td>Bill Gates</td>\n",
       "      <td>March 2015</td>\n",
       "      <td>43000000</td>\n",
       "      <td>1300000</td>\n",
       "      <td>https://ted.com/talks/bill_gates_the_next_outb...</td>\n",
       "    </tr>\n",
       "    <tr>\n",
       "      <th>3017</th>\n",
       "      <td>What makes a good life? Lessons from the longe...</td>\n",
       "      <td>Robert Waldinger</td>\n",
       "      <td>November 2015</td>\n",
       "      <td>41000000</td>\n",
       "      <td>1200000</td>\n",
       "      <td>https://ted.com/talks/robert_waldinger_what_ma...</td>\n",
       "    </tr>\n",
       "    <tr>\n",
       "      <th>3994</th>\n",
       "      <td>Looks aren't everything. Believe me, I'm a model.</td>\n",
       "      <td>Cameron Russell</td>\n",
       "      <td>October 2012</td>\n",
       "      <td>38000000</td>\n",
       "      <td>1100000</td>\n",
       "      <td>https://ted.com/talks/cameron_russell_looks_ar...</td>\n",
       "    </tr>\n",
       "  </tbody>\n",
       "</table>\n",
       "</div>"
      ],
      "text/plain": [
       "                                                  title            author  \\\n",
       "5436                        Do schools kill creativity?  Sir Ken Robinson   \n",
       "4084           Your body language may shape who you are         Amy Cuddy   \n",
       "2958         Inside the mind of a master procrastinator         Tim Urban   \n",
       "4765                   How great leaders inspire action       Simon Sinek   \n",
       "4605                         The power of vulnerability       Brené Brown   \n",
       "3504         How to speak so that people want to listen   Julian Treasure   \n",
       "2168                     My philosophy for a happy life         Sam Berns   \n",
       "3251                 The next outbreak? We're not ready        Bill Gates   \n",
       "3017  What makes a good life? Lessons from the longe...  Robert Waldinger   \n",
       "3994  Looks aren't everything. Believe me, I'm a model.   Cameron Russell   \n",
       "\n",
       "                date     views    likes  \\\n",
       "5436   February 2006  72000000  2100000   \n",
       "4084       June 2012  64000000  1900000   \n",
       "2958   February 2016  60000000  1800000   \n",
       "4765  September 2009  57000000  1700000   \n",
       "4605       June 2010  56000000  1700000   \n",
       "3504       June 2013  49000000  1400000   \n",
       "2168    October 2013  43000000  1300000   \n",
       "3251      March 2015  43000000  1300000   \n",
       "3017   November 2015  41000000  1200000   \n",
       "3994    October 2012  38000000  1100000   \n",
       "\n",
       "                                                   link  \n",
       "5436  https://ted.com/talks/sir_ken_robinson_do_scho...  \n",
       "4084  https://ted.com/talks/amy_cuddy_your_body_lang...  \n",
       "2958  https://ted.com/talks/tim_urban_inside_the_min...  \n",
       "4765  https://ted.com/talks/simon_sinek_how_great_le...  \n",
       "4605  https://ted.com/talks/brene_brown_the_power_of...  \n",
       "3504  https://ted.com/talks/julian_treasure_how_to_s...  \n",
       "2168  https://ted.com/talks/sam_berns_my_philosophy_...  \n",
       "3251  https://ted.com/talks/bill_gates_the_next_outb...  \n",
       "3017  https://ted.com/talks/robert_waldinger_what_ma...  \n",
       "3994  https://ted.com/talks/cameron_russell_looks_ar...  "
      ]
     },
     "execution_count": 3,
     "metadata": {},
     "output_type": "execute_result"
    }
   ],
   "source": [
    "df.sort_values(by = 'views', ascending = False).head(10)"
   ]
  },
  {
   "cell_type": "markdown",
   "id": "350e100a",
   "metadata": {},
   "source": [
    "# Top 10 TED Talks based on Likes"
   ]
  },
  {
   "cell_type": "code",
   "execution_count": 4,
   "id": "46543246",
   "metadata": {},
   "outputs": [
    {
     "data": {
      "text/html": [
       "<div>\n",
       "<style scoped>\n",
       "    .dataframe tbody tr th:only-of-type {\n",
       "        vertical-align: middle;\n",
       "    }\n",
       "\n",
       "    .dataframe tbody tr th {\n",
       "        vertical-align: top;\n",
       "    }\n",
       "\n",
       "    .dataframe thead th {\n",
       "        text-align: right;\n",
       "    }\n",
       "</style>\n",
       "<table border=\"1\" class=\"dataframe\">\n",
       "  <thead>\n",
       "    <tr style=\"text-align: right;\">\n",
       "      <th></th>\n",
       "      <th>title</th>\n",
       "      <th>author</th>\n",
       "      <th>date</th>\n",
       "      <th>views</th>\n",
       "      <th>likes</th>\n",
       "      <th>link</th>\n",
       "    </tr>\n",
       "  </thead>\n",
       "  <tbody>\n",
       "    <tr>\n",
       "      <th>5436</th>\n",
       "      <td>Do schools kill creativity?</td>\n",
       "      <td>Sir Ken Robinson</td>\n",
       "      <td>February 2006</td>\n",
       "      <td>72000000</td>\n",
       "      <td>2100000</td>\n",
       "      <td>https://ted.com/talks/sir_ken_robinson_do_scho...</td>\n",
       "    </tr>\n",
       "    <tr>\n",
       "      <th>4084</th>\n",
       "      <td>Your body language may shape who you are</td>\n",
       "      <td>Amy Cuddy</td>\n",
       "      <td>June 2012</td>\n",
       "      <td>64000000</td>\n",
       "      <td>1900000</td>\n",
       "      <td>https://ted.com/talks/amy_cuddy_your_body_lang...</td>\n",
       "    </tr>\n",
       "    <tr>\n",
       "      <th>2958</th>\n",
       "      <td>Inside the mind of a master procrastinator</td>\n",
       "      <td>Tim Urban</td>\n",
       "      <td>February 2016</td>\n",
       "      <td>60000000</td>\n",
       "      <td>1800000</td>\n",
       "      <td>https://ted.com/talks/tim_urban_inside_the_min...</td>\n",
       "    </tr>\n",
       "    <tr>\n",
       "      <th>4765</th>\n",
       "      <td>How great leaders inspire action</td>\n",
       "      <td>Simon Sinek</td>\n",
       "      <td>September 2009</td>\n",
       "      <td>57000000</td>\n",
       "      <td>1700000</td>\n",
       "      <td>https://ted.com/talks/simon_sinek_how_great_le...</td>\n",
       "    </tr>\n",
       "    <tr>\n",
       "      <th>4605</th>\n",
       "      <td>The power of vulnerability</td>\n",
       "      <td>Brené Brown</td>\n",
       "      <td>June 2010</td>\n",
       "      <td>56000000</td>\n",
       "      <td>1700000</td>\n",
       "      <td>https://ted.com/talks/brene_brown_the_power_of...</td>\n",
       "    </tr>\n",
       "    <tr>\n",
       "      <th>3504</th>\n",
       "      <td>How to speak so that people want to listen</td>\n",
       "      <td>Julian Treasure</td>\n",
       "      <td>June 2013</td>\n",
       "      <td>49000000</td>\n",
       "      <td>1400000</td>\n",
       "      <td>https://ted.com/talks/julian_treasure_how_to_s...</td>\n",
       "    </tr>\n",
       "    <tr>\n",
       "      <th>2168</th>\n",
       "      <td>My philosophy for a happy life</td>\n",
       "      <td>Sam Berns</td>\n",
       "      <td>October 2013</td>\n",
       "      <td>43000000</td>\n",
       "      <td>1300000</td>\n",
       "      <td>https://ted.com/talks/sam_berns_my_philosophy_...</td>\n",
       "    </tr>\n",
       "    <tr>\n",
       "      <th>3251</th>\n",
       "      <td>The next outbreak? We're not ready</td>\n",
       "      <td>Bill Gates</td>\n",
       "      <td>March 2015</td>\n",
       "      <td>43000000</td>\n",
       "      <td>1300000</td>\n",
       "      <td>https://ted.com/talks/bill_gates_the_next_outb...</td>\n",
       "    </tr>\n",
       "    <tr>\n",
       "      <th>3017</th>\n",
       "      <td>What makes a good life? Lessons from the longe...</td>\n",
       "      <td>Robert Waldinger</td>\n",
       "      <td>November 2015</td>\n",
       "      <td>41000000</td>\n",
       "      <td>1200000</td>\n",
       "      <td>https://ted.com/talks/robert_waldinger_what_ma...</td>\n",
       "    </tr>\n",
       "    <tr>\n",
       "      <th>3994</th>\n",
       "      <td>Looks aren't everything. Believe me, I'm a model.</td>\n",
       "      <td>Cameron Russell</td>\n",
       "      <td>October 2012</td>\n",
       "      <td>38000000</td>\n",
       "      <td>1100000</td>\n",
       "      <td>https://ted.com/talks/cameron_russell_looks_ar...</td>\n",
       "    </tr>\n",
       "  </tbody>\n",
       "</table>\n",
       "</div>"
      ],
      "text/plain": [
       "                                                  title            author  \\\n",
       "5436                        Do schools kill creativity?  Sir Ken Robinson   \n",
       "4084           Your body language may shape who you are         Amy Cuddy   \n",
       "2958         Inside the mind of a master procrastinator         Tim Urban   \n",
       "4765                   How great leaders inspire action       Simon Sinek   \n",
       "4605                         The power of vulnerability       Brené Brown   \n",
       "3504         How to speak so that people want to listen   Julian Treasure   \n",
       "2168                     My philosophy for a happy life         Sam Berns   \n",
       "3251                 The next outbreak? We're not ready        Bill Gates   \n",
       "3017  What makes a good life? Lessons from the longe...  Robert Waldinger   \n",
       "3994  Looks aren't everything. Believe me, I'm a model.   Cameron Russell   \n",
       "\n",
       "                date     views    likes  \\\n",
       "5436   February 2006  72000000  2100000   \n",
       "4084       June 2012  64000000  1900000   \n",
       "2958   February 2016  60000000  1800000   \n",
       "4765  September 2009  57000000  1700000   \n",
       "4605       June 2010  56000000  1700000   \n",
       "3504       June 2013  49000000  1400000   \n",
       "2168    October 2013  43000000  1300000   \n",
       "3251      March 2015  43000000  1300000   \n",
       "3017   November 2015  41000000  1200000   \n",
       "3994    October 2012  38000000  1100000   \n",
       "\n",
       "                                                   link  \n",
       "5436  https://ted.com/talks/sir_ken_robinson_do_scho...  \n",
       "4084  https://ted.com/talks/amy_cuddy_your_body_lang...  \n",
       "2958  https://ted.com/talks/tim_urban_inside_the_min...  \n",
       "4765  https://ted.com/talks/simon_sinek_how_great_le...  \n",
       "4605  https://ted.com/talks/brene_brown_the_power_of...  \n",
       "3504  https://ted.com/talks/julian_treasure_how_to_s...  \n",
       "2168  https://ted.com/talks/sam_berns_my_philosophy_...  \n",
       "3251  https://ted.com/talks/bill_gates_the_next_outb...  \n",
       "3017  https://ted.com/talks/robert_waldinger_what_ma...  \n",
       "3994  https://ted.com/talks/cameron_russell_looks_ar...  "
      ]
     },
     "execution_count": 4,
     "metadata": {},
     "output_type": "execute_result"
    }
   ],
   "source": [
    "df.sort_values(by = 'likes', ascending = False).head(10)"
   ]
  },
  {
   "cell_type": "markdown",
   "id": "5a26b1d4",
   "metadata": {},
   "source": [
    "# Top 10 Videos with Most View to Like Ratio"
   ]
  },
  {
   "cell_type": "code",
   "execution_count": 5,
   "id": "e5c1ba62",
   "metadata": {},
   "outputs": [],
   "source": [
    "view_to_like = []\n",
    "\n",
    "data = df.values\n",
    "\n",
    "for i in range(len(data)):\n",
    "    view_to_like.append(round(data[i][3]/data[i][4], 2))\n",
    "    \n",
    "df['VTL_Ratio'] = view_to_like"
   ]
  },
  {
   "cell_type": "code",
   "execution_count": 6,
   "id": "fbc16bc3",
   "metadata": {
    "scrolled": true
   },
   "outputs": [
    {
     "data": {
      "text/html": [
       "<div>\n",
       "<style scoped>\n",
       "    .dataframe tbody tr th:only-of-type {\n",
       "        vertical-align: middle;\n",
       "    }\n",
       "\n",
       "    .dataframe tbody tr th {\n",
       "        vertical-align: top;\n",
       "    }\n",
       "\n",
       "    .dataframe thead th {\n",
       "        text-align: right;\n",
       "    }\n",
       "</style>\n",
       "<table border=\"1\" class=\"dataframe\">\n",
       "  <thead>\n",
       "    <tr style=\"text-align: right;\">\n",
       "      <th></th>\n",
       "      <th>title</th>\n",
       "      <th>author</th>\n",
       "      <th>date</th>\n",
       "      <th>views</th>\n",
       "      <th>likes</th>\n",
       "      <th>link</th>\n",
       "      <th>VTL_Ratio</th>\n",
       "    </tr>\n",
       "  </thead>\n",
       "  <tbody>\n",
       "    <tr>\n",
       "      <th>955</th>\n",
       "      <td>A camera that can see around corners</td>\n",
       "      <td>David Lindell</td>\n",
       "      <td>November 2019</td>\n",
       "      <td>364000</td>\n",
       "      <td>10000</td>\n",
       "      <td>https://ted.com/talks/david_lindell_a_camera_t...</td>\n",
       "      <td>36.40</td>\n",
       "    </tr>\n",
       "    <tr>\n",
       "      <th>905</th>\n",
       "      <td>What's the point(e) of ballet?</td>\n",
       "      <td>Ming Luke</td>\n",
       "      <td>April 2020</td>\n",
       "      <td>364000</td>\n",
       "      <td>10000</td>\n",
       "      <td>https://ted.com/talks/ming_luke_what_s_the_poi...</td>\n",
       "      <td>36.40</td>\n",
       "    </tr>\n",
       "    <tr>\n",
       "      <th>837</th>\n",
       "      <td>How to see more and care less: The art of Geor...</td>\n",
       "      <td>Iseult Gillespie</td>\n",
       "      <td>June 2020</td>\n",
       "      <td>364000</td>\n",
       "      <td>10000</td>\n",
       "      <td>https://ted.com/talks/iseult_gillespie_how_to_...</td>\n",
       "      <td>36.40</td>\n",
       "    </tr>\n",
       "    <tr>\n",
       "      <th>26</th>\n",
       "      <td>Can you outsmart the fallacy that divided a na...</td>\n",
       "      <td>Elizabeth Cox</td>\n",
       "      <td>February 2022</td>\n",
       "      <td>363000</td>\n",
       "      <td>10000</td>\n",
       "      <td>https://ted.com/talks/elizabeth_cox_can_you_ou...</td>\n",
       "      <td>36.30</td>\n",
       "    </tr>\n",
       "    <tr>\n",
       "      <th>1016</th>\n",
       "      <td>The function and fashion of eyeglasses</td>\n",
       "      <td>Debbie Millman</td>\n",
       "      <td>January 2020</td>\n",
       "      <td>363000</td>\n",
       "      <td>10000</td>\n",
       "      <td>https://ted.com/talks/debbie_millman_the_funct...</td>\n",
       "      <td>36.30</td>\n",
       "    </tr>\n",
       "    <tr>\n",
       "      <th>3089</th>\n",
       "      <td>How computers translate human language</td>\n",
       "      <td>Ioannis Papachimonas</td>\n",
       "      <td>October 2015</td>\n",
       "      <td>398000</td>\n",
       "      <td>11000</td>\n",
       "      <td>https://ted.com/talks/ioannis_papachimonas_how...</td>\n",
       "      <td>36.18</td>\n",
       "    </tr>\n",
       "    <tr>\n",
       "      <th>4389</th>\n",
       "      <td>The right to understand</td>\n",
       "      <td>Sandra Fisher-Martins</td>\n",
       "      <td>March 2011</td>\n",
       "      <td>361000</td>\n",
       "      <td>10000</td>\n",
       "      <td>https://ted.com/talks/sandra_fisher_martins_th...</td>\n",
       "      <td>36.10</td>\n",
       "    </tr>\n",
       "    <tr>\n",
       "      <th>4362</th>\n",
       "      <td>How to topple a dictator</td>\n",
       "      <td>Srdja Popovic</td>\n",
       "      <td>November 2011</td>\n",
       "      <td>397000</td>\n",
       "      <td>11000</td>\n",
       "      <td>https://ted.com/talks/srdja_popovic_how_to_top...</td>\n",
       "      <td>36.09</td>\n",
       "    </tr>\n",
       "    <tr>\n",
       "      <th>5129</th>\n",
       "      <td>On glamour</td>\n",
       "      <td>Virginia Postrel</td>\n",
       "      <td>February 2004</td>\n",
       "      <td>433000</td>\n",
       "      <td>12000</td>\n",
       "      <td>https://ted.com/talks/virginia_postrel_on_glamour</td>\n",
       "      <td>36.08</td>\n",
       "    </tr>\n",
       "    <tr>\n",
       "      <th>3335</th>\n",
       "      <td>Your strategy needs a strategy</td>\n",
       "      <td>Martin Reeves</td>\n",
       "      <td>October 2014</td>\n",
       "      <td>360000</td>\n",
       "      <td>10000</td>\n",
       "      <td>https://ted.com/talks/martin_reeves_your_strat...</td>\n",
       "      <td>36.00</td>\n",
       "    </tr>\n",
       "  </tbody>\n",
       "</table>\n",
       "</div>"
      ],
      "text/plain": [
       "                                                  title  \\\n",
       "955                A camera that can see around corners   \n",
       "905                      What's the point(e) of ballet?   \n",
       "837   How to see more and care less: The art of Geor...   \n",
       "26    Can you outsmart the fallacy that divided a na...   \n",
       "1016             The function and fashion of eyeglasses   \n",
       "3089             How computers translate human language   \n",
       "4389                            The right to understand   \n",
       "4362                           How to topple a dictator   \n",
       "5129                                         On glamour   \n",
       "3335                     Your strategy needs a strategy   \n",
       "\n",
       "                     author           date   views  likes  \\\n",
       "955           David Lindell  November 2019  364000  10000   \n",
       "905               Ming Luke     April 2020  364000  10000   \n",
       "837        Iseult Gillespie      June 2020  364000  10000   \n",
       "26            Elizabeth Cox  February 2022  363000  10000   \n",
       "1016         Debbie Millman   January 2020  363000  10000   \n",
       "3089   Ioannis Papachimonas   October 2015  398000  11000   \n",
       "4389  Sandra Fisher-Martins     March 2011  361000  10000   \n",
       "4362          Srdja Popovic  November 2011  397000  11000   \n",
       "5129       Virginia Postrel  February 2004  433000  12000   \n",
       "3335          Martin Reeves   October 2014  360000  10000   \n",
       "\n",
       "                                                   link  VTL_Ratio  \n",
       "955   https://ted.com/talks/david_lindell_a_camera_t...      36.40  \n",
       "905   https://ted.com/talks/ming_luke_what_s_the_poi...      36.40  \n",
       "837   https://ted.com/talks/iseult_gillespie_how_to_...      36.40  \n",
       "26    https://ted.com/talks/elizabeth_cox_can_you_ou...      36.30  \n",
       "1016  https://ted.com/talks/debbie_millman_the_funct...      36.30  \n",
       "3089  https://ted.com/talks/ioannis_papachimonas_how...      36.18  \n",
       "4389  https://ted.com/talks/sandra_fisher_martins_th...      36.10  \n",
       "4362  https://ted.com/talks/srdja_popovic_how_to_top...      36.09  \n",
       "5129  https://ted.com/talks/virginia_postrel_on_glamour      36.08  \n",
       "3335  https://ted.com/talks/martin_reeves_your_strat...      36.00  "
      ]
     },
     "execution_count": 6,
     "metadata": {},
     "output_type": "execute_result"
    }
   ],
   "source": [
    "df.sort_values(by='VTL_Ratio', ascending=False).head(10)"
   ]
  },
  {
   "cell_type": "markdown",
   "id": "5861567e",
   "metadata": {},
   "source": [
    "# Top 10 Authors with Most number of TED Talks"
   ]
  },
  {
   "cell_type": "code",
   "execution_count": 7,
   "id": "312e83d5",
   "metadata": {},
   "outputs": [
    {
     "data": {
      "text/html": [
       "<div>\n",
       "<style scoped>\n",
       "    .dataframe tbody tr th:only-of-type {\n",
       "        vertical-align: middle;\n",
       "    }\n",
       "\n",
       "    .dataframe tbody tr th {\n",
       "        vertical-align: top;\n",
       "    }\n",
       "\n",
       "    .dataframe thead th {\n",
       "        text-align: right;\n",
       "    }\n",
       "</style>\n",
       "<table border=\"1\" class=\"dataframe\">\n",
       "  <thead>\n",
       "    <tr style=\"text-align: right;\">\n",
       "      <th></th>\n",
       "      <th>title</th>\n",
       "      <th>author</th>\n",
       "      <th>date</th>\n",
       "      <th>views</th>\n",
       "      <th>likes</th>\n",
       "      <th>link</th>\n",
       "      <th>VTL_Ratio</th>\n",
       "    </tr>\n",
       "  </thead>\n",
       "  <tbody>\n",
       "    <tr>\n",
       "      <th>0</th>\n",
       "      <td>Climate action needs new frontline leadership</td>\n",
       "      <td>Ozawa Bineshi Albert</td>\n",
       "      <td>December 2021</td>\n",
       "      <td>404000</td>\n",
       "      <td>12000</td>\n",
       "      <td>https://ted.com/talks/ozawa_bineshi_albert_cli...</td>\n",
       "      <td>33.67</td>\n",
       "    </tr>\n",
       "    <tr>\n",
       "      <th>1</th>\n",
       "      <td>The dark history of the overthrow of Hawaii</td>\n",
       "      <td>Sydney Iaukea</td>\n",
       "      <td>February 2022</td>\n",
       "      <td>214000</td>\n",
       "      <td>6400</td>\n",
       "      <td>https://ted.com/talks/sydney_iaukea_the_dark_h...</td>\n",
       "      <td>33.44</td>\n",
       "    </tr>\n",
       "    <tr>\n",
       "      <th>2</th>\n",
       "      <td>How play can spark new ideas for your business</td>\n",
       "      <td>Martin Reeves</td>\n",
       "      <td>September 2021</td>\n",
       "      <td>412000</td>\n",
       "      <td>12000</td>\n",
       "      <td>https://ted.com/talks/martin_reeves_how_play_c...</td>\n",
       "      <td>34.33</td>\n",
       "    </tr>\n",
       "    <tr>\n",
       "      <th>3</th>\n",
       "      <td>Why is China appointing judges to combat clima...</td>\n",
       "      <td>James K. Thornton</td>\n",
       "      <td>October 2021</td>\n",
       "      <td>427000</td>\n",
       "      <td>12000</td>\n",
       "      <td>https://ted.com/talks/james_k_thornton_why_is_...</td>\n",
       "      <td>35.58</td>\n",
       "    </tr>\n",
       "    <tr>\n",
       "      <th>4</th>\n",
       "      <td>Cement's carbon problem — and 2 ways to fix it</td>\n",
       "      <td>Mahendra Singhi</td>\n",
       "      <td>October 2021</td>\n",
       "      <td>2400</td>\n",
       "      <td>72</td>\n",
       "      <td>https://ted.com/talks/mahendra_singhi_cement_s...</td>\n",
       "      <td>33.33</td>\n",
       "    </tr>\n",
       "  </tbody>\n",
       "</table>\n",
       "</div>"
      ],
      "text/plain": [
       "                                               title                author  \\\n",
       "0      Climate action needs new frontline leadership  Ozawa Bineshi Albert   \n",
       "1        The dark history of the overthrow of Hawaii         Sydney Iaukea   \n",
       "2     How play can spark new ideas for your business         Martin Reeves   \n",
       "3  Why is China appointing judges to combat clima...     James K. Thornton   \n",
       "4     Cement's carbon problem — and 2 ways to fix it       Mahendra Singhi   \n",
       "\n",
       "             date   views  likes  \\\n",
       "0   December 2021  404000  12000   \n",
       "1   February 2022  214000   6400   \n",
       "2  September 2021  412000  12000   \n",
       "3    October 2021  427000  12000   \n",
       "4    October 2021    2400     72   \n",
       "\n",
       "                                                link  VTL_Ratio  \n",
       "0  https://ted.com/talks/ozawa_bineshi_albert_cli...      33.67  \n",
       "1  https://ted.com/talks/sydney_iaukea_the_dark_h...      33.44  \n",
       "2  https://ted.com/talks/martin_reeves_how_play_c...      34.33  \n",
       "3  https://ted.com/talks/james_k_thornton_why_is_...      35.58  \n",
       "4  https://ted.com/talks/mahendra_singhi_cement_s...      33.33  "
      ]
     },
     "execution_count": 7,
     "metadata": {},
     "output_type": "execute_result"
    }
   ],
   "source": [
    "df.head()"
   ]
  },
  {
   "cell_type": "code",
   "execution_count": 8,
   "id": "e9b7ed7f",
   "metadata": {},
   "outputs": [
    {
     "data": {
      "text/plain": [
       "author\n",
       "Alex Gendler        45\n",
       "Iseult Gillespie    33\n",
       "Matt Walker         18\n",
       "Alex Rosenthal      15\n",
       "Elizabeth Cox       13\n",
       "Emma Bryce          12\n",
       "Daniel Finkel       11\n",
       "Juan Enriquez       11\n",
       "Dan Finkel           9\n",
       "Hans Rosling         9\n",
       "dtype: int64"
      ]
     },
     "execution_count": 8,
     "metadata": {},
     "output_type": "execute_result"
    }
   ],
   "source": [
    "df.groupby('author').size().sort_values(ascending=False).head(10)"
   ]
  },
  {
   "cell_type": "markdown",
   "id": "4bfb0858",
   "metadata": {},
   "source": [
    "# How many TED Talks are given in 2020?"
   ]
  },
  {
   "cell_type": "code",
   "execution_count": 9,
   "id": "b323e01b",
   "metadata": {},
   "outputs": [],
   "source": [
    "data = df.values\n",
    "\n",
    "month = []\n",
    "year = []\n",
    "\n",
    "for i in range(len(data)):\n",
    "    month.append(data[i][2].split(' ')[0])\n",
    "    year.append(data[i][2].split(' ')[1])"
   ]
  },
  {
   "cell_type": "code",
   "execution_count": 10,
   "id": "42dd35f2",
   "metadata": {},
   "outputs": [],
   "source": [
    "df['year'] = year\n",
    "df['month'] = month"
   ]
  },
  {
   "cell_type": "code",
   "execution_count": 11,
   "id": "6a0067fc",
   "metadata": {},
   "outputs": [
    {
     "data": {
      "text/html": [
       "<div>\n",
       "<style scoped>\n",
       "    .dataframe tbody tr th:only-of-type {\n",
       "        vertical-align: middle;\n",
       "    }\n",
       "\n",
       "    .dataframe tbody tr th {\n",
       "        vertical-align: top;\n",
       "    }\n",
       "\n",
       "    .dataframe thead th {\n",
       "        text-align: right;\n",
       "    }\n",
       "</style>\n",
       "<table border=\"1\" class=\"dataframe\">\n",
       "  <thead>\n",
       "    <tr style=\"text-align: right;\">\n",
       "      <th></th>\n",
       "      <th>title</th>\n",
       "      <th>author</th>\n",
       "      <th>date</th>\n",
       "      <th>views</th>\n",
       "      <th>likes</th>\n",
       "      <th>link</th>\n",
       "      <th>VTL_Ratio</th>\n",
       "      <th>year</th>\n",
       "      <th>month</th>\n",
       "    </tr>\n",
       "  </thead>\n",
       "  <tbody>\n",
       "    <tr>\n",
       "      <th>0</th>\n",
       "      <td>Climate action needs new frontline leadership</td>\n",
       "      <td>Ozawa Bineshi Albert</td>\n",
       "      <td>December 2021</td>\n",
       "      <td>404000</td>\n",
       "      <td>12000</td>\n",
       "      <td>https://ted.com/talks/ozawa_bineshi_albert_cli...</td>\n",
       "      <td>33.67</td>\n",
       "      <td>2021</td>\n",
       "      <td>December</td>\n",
       "    </tr>\n",
       "    <tr>\n",
       "      <th>1</th>\n",
       "      <td>The dark history of the overthrow of Hawaii</td>\n",
       "      <td>Sydney Iaukea</td>\n",
       "      <td>February 2022</td>\n",
       "      <td>214000</td>\n",
       "      <td>6400</td>\n",
       "      <td>https://ted.com/talks/sydney_iaukea_the_dark_h...</td>\n",
       "      <td>33.44</td>\n",
       "      <td>2022</td>\n",
       "      <td>February</td>\n",
       "    </tr>\n",
       "    <tr>\n",
       "      <th>2</th>\n",
       "      <td>How play can spark new ideas for your business</td>\n",
       "      <td>Martin Reeves</td>\n",
       "      <td>September 2021</td>\n",
       "      <td>412000</td>\n",
       "      <td>12000</td>\n",
       "      <td>https://ted.com/talks/martin_reeves_how_play_c...</td>\n",
       "      <td>34.33</td>\n",
       "      <td>2021</td>\n",
       "      <td>September</td>\n",
       "    </tr>\n",
       "    <tr>\n",
       "      <th>3</th>\n",
       "      <td>Why is China appointing judges to combat clima...</td>\n",
       "      <td>James K. Thornton</td>\n",
       "      <td>October 2021</td>\n",
       "      <td>427000</td>\n",
       "      <td>12000</td>\n",
       "      <td>https://ted.com/talks/james_k_thornton_why_is_...</td>\n",
       "      <td>35.58</td>\n",
       "      <td>2021</td>\n",
       "      <td>October</td>\n",
       "    </tr>\n",
       "    <tr>\n",
       "      <th>4</th>\n",
       "      <td>Cement's carbon problem — and 2 ways to fix it</td>\n",
       "      <td>Mahendra Singhi</td>\n",
       "      <td>October 2021</td>\n",
       "      <td>2400</td>\n",
       "      <td>72</td>\n",
       "      <td>https://ted.com/talks/mahendra_singhi_cement_s...</td>\n",
       "      <td>33.33</td>\n",
       "      <td>2021</td>\n",
       "      <td>October</td>\n",
       "    </tr>\n",
       "  </tbody>\n",
       "</table>\n",
       "</div>"
      ],
      "text/plain": [
       "                                               title                author  \\\n",
       "0      Climate action needs new frontline leadership  Ozawa Bineshi Albert   \n",
       "1        The dark history of the overthrow of Hawaii         Sydney Iaukea   \n",
       "2     How play can spark new ideas for your business         Martin Reeves   \n",
       "3  Why is China appointing judges to combat clima...     James K. Thornton   \n",
       "4     Cement's carbon problem — and 2 ways to fix it       Mahendra Singhi   \n",
       "\n",
       "             date   views  likes  \\\n",
       "0   December 2021  404000  12000   \n",
       "1   February 2022  214000   6400   \n",
       "2  September 2021  412000  12000   \n",
       "3    October 2021  427000  12000   \n",
       "4    October 2021    2400     72   \n",
       "\n",
       "                                                link  VTL_Ratio  year  \\\n",
       "0  https://ted.com/talks/ozawa_bineshi_albert_cli...      33.67  2021   \n",
       "1  https://ted.com/talks/sydney_iaukea_the_dark_h...      33.44  2022   \n",
       "2  https://ted.com/talks/martin_reeves_how_play_c...      34.33  2021   \n",
       "3  https://ted.com/talks/james_k_thornton_why_is_...      35.58  2021   \n",
       "4  https://ted.com/talks/mahendra_singhi_cement_s...      33.33  2021   \n",
       "\n",
       "       month  \n",
       "0   December  \n",
       "1   February  \n",
       "2  September  \n",
       "3    October  \n",
       "4    October  "
      ]
     },
     "execution_count": 11,
     "metadata": {},
     "output_type": "execute_result"
    }
   ],
   "source": [
    "df.head()"
   ]
  },
  {
   "cell_type": "code",
   "execution_count": 12,
   "id": "70dcda52",
   "metadata": {},
   "outputs": [
    {
     "data": {
      "text/plain": [
       "501"
      ]
     },
     "execution_count": 12,
     "metadata": {},
     "output_type": "execute_result"
    }
   ],
   "source": [
    "len(df[df['year']=='2020'])"
   ]
  },
  {
   "cell_type": "markdown",
   "id": "841864ef",
   "metadata": {},
   "source": [
    "# Trend of TED Talks Frequency by Years"
   ]
  },
  {
   "cell_type": "code",
   "execution_count": 13,
   "id": "edff6c0b",
   "metadata": {
    "scrolled": true
   },
   "outputs": [
    {
     "data": {
      "text/plain": [
       "<AxesSubplot:xlabel='year'>"
      ]
     },
     "execution_count": 13,
     "metadata": {},
     "output_type": "execute_result"
    },
    {
     "data": {
      "image/png": "[encoded data removed]",
      "text/plain": [
       "<Figure size 432x288 with 1 Axes>"
      ]
     },
     "metadata": {
      "needs_background": "light"
     },
     "output_type": "display_data"
    }
   ],
   "source": [
    "df.groupby('year').size().plot(kind='bar')"
   ]
  },
  {
   "cell_type": "markdown",
   "id": "3b18fc0a",
   "metadata": {},
   "source": [
    "# Trend of TED Talks Frequency by Months"
   ]
  },
  {
   "cell_type": "code",
   "execution_count": 15,
   "id": "3d38c5e9",
   "metadata": {},
   "outputs": [
    {
     "data": {
      "text/plain": [
       "<AxesSubplot:xlabel='month'>"
      ]
     },
     "execution_count": 15,
     "metadata": {},
     "output_type": "execute_result"
    },
    {
     "data": {
      "image/png": "[encoded data removed]",
      "text/plain": [
       "<Figure size 432x288 with 1 Axes>"
      ]
     },
     "metadata": {
      "needs_background": "light"
     },
     "output_type": "display_data"
    }
   ],
   "source": [
    "df.groupby('month').size().sort_values(ascending=False).plot(kind='bar')"
   ]
  },
  {
   "cell_type": "markdown",
   "id": "5c0626b5",
   "metadata": {},
   "source": [
    "# Trend of TED Talks Frequency by Months (in year 2020)"
   ]
  },
  {
   "cell_type": "code",
   "execution_count": 16,
   "id": "39b69e97",
   "metadata": {},
   "outputs": [
    {
     "data": {
      "text/plain": [
       "<AxesSubplot:xlabel='month'>"
      ]
     },
     "execution_count": 16,
     "metadata": {},
     "output_type": "execute_result"
    },
    {
     "data": {
      "image/png": "[encoded data removed]",
      "text/plain": [
       "<Figure size 432x288 with 1 Axes>"
      ]
     },
     "metadata": {
      "needs_background": "light"
     },
     "output_type": "display_data"
    }
   ],
   "source": [
    "df_fr=df[df['year']=='2020']\n",
    "df_fr.groupby('month').size().sort_values(ascending=False).plot(kind='bar')"
   ]
  },
  {
   "cell_type": "code",
   "execution_count": 17,
   "id": "bb5ce12a",
   "metadata": {},
   "outputs": [
    {
     "data": {
      "text/plain": [
       "author\n",
       "Alex Gendler        187196000\n",
       "Sir Ken Robinson     95654000\n",
       "Bill Gates           77800000\n",
       "Simon Sinek          74800000\n",
       "Brené Brown          72000000\n",
       "Julian Treasure      64300000\n",
       "Amy Cuddy            64000000\n",
       "Tim Urban            60000000\n",
       "Iseult Gillespie     54998000\n",
       "Mia Nacamulli        44174000\n",
       "Name: views, dtype: int64"
      ]
     },
     "execution_count": 17,
     "metadata": {},
     "output_type": "execute_result"
    }
   ],
   "source": [
    "df.groupby('author').sum()['views'].sort_values(ascending = False).head(10)"
   ]
  }
 ],
 "metadata": {
  "kernelspec": {
   "display_name": "rhea",
   "language": "python",
   "name": "rhea"
  },
  "language_info": {
   "codemirror_mode": {
    "name": "ipython",
    "version": 3
   },
   "file_extension": ".py",
   "mimetype": "text/x-python",
   "name": "python",
   "nbconvert_exporter": "python",
   "pygments_lexer": "ipython3",
   "version": "3.9.12"
  }
 },
 "nbformat": 4,
 "nbformat_minor": 5
}
